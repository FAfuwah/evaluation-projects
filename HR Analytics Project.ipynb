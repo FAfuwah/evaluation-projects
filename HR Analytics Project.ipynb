{
 "cells": [
  {
   "cell_type": "markdown",
   "id": "352928b2",
   "metadata": {},
   "source": [
    "### HR Analytics Project by Francis Afuwah.\n",
    "Batch: DS2312"
   ]
  },
  {
   "cell_type": "markdown",
   "id": "8251b84b",
   "metadata": {},
   "source": [
    "### Imports"
   ]
  },
  {
   "cell_type": "code",
   "execution_count": 1,
   "id": "38fc0c90",
   "metadata": {},
   "outputs": [],
   "source": [
    "import pandas as pd\n",
    "import numpy as np\n",
    "import matplotlib.pyplot as plt\n",
    "import seaborn as sns\n",
    "from sklearn.model_selection import train_test_split\n",
    "from sklearn.linear_model import LogisticRegression\n",
    "from sklearn.metrics import classification_report, confusion_matrix"
   ]
  },
  {
   "cell_type": "markdown",
   "id": "ba780b9c",
   "metadata": {},
   "source": [
    "### Load the data to understand the structure and content."
   ]
  },
  {
   "cell_type": "code",
   "execution_count": 2,
   "id": "091f3f5c",
   "metadata": {},
   "outputs": [
    {
     "data": {
      "text/html": [
       "<div>\n",
       "<style scoped>\n",
       "    .dataframe tbody tr th:only-of-type {\n",
       "        vertical-align: middle;\n",
       "    }\n",
       "\n",
       "    .dataframe tbody tr th {\n",
       "        vertical-align: top;\n",
       "    }\n",
       "\n",
       "    .dataframe thead th {\n",
       "        text-align: right;\n",
       "    }\n",
       "</style>\n",
       "<table border=\"1\" class=\"dataframe\">\n",
       "  <thead>\n",
       "    <tr style=\"text-align: right;\">\n",
       "      <th></th>\n",
       "      <th>Age</th>\n",
       "      <th>Attrition</th>\n",
       "      <th>BusinessTravel</th>\n",
       "      <th>DailyRate</th>\n",
       "      <th>Department</th>\n",
       "      <th>DistanceFromHome</th>\n",
       "      <th>Education</th>\n",
       "      <th>EducationField</th>\n",
       "      <th>EmployeeCount</th>\n",
       "      <th>EmployeeNumber</th>\n",
       "      <th>...</th>\n",
       "      <th>RelationshipSatisfaction</th>\n",
       "      <th>StandardHours</th>\n",
       "      <th>StockOptionLevel</th>\n",
       "      <th>TotalWorkingYears</th>\n",
       "      <th>TrainingTimesLastYear</th>\n",
       "      <th>WorkLifeBalance</th>\n",
       "      <th>YearsAtCompany</th>\n",
       "      <th>YearsInCurrentRole</th>\n",
       "      <th>YearsSinceLastPromotion</th>\n",
       "      <th>YearsWithCurrManager</th>\n",
       "    </tr>\n",
       "  </thead>\n",
       "  <tbody>\n",
       "    <tr>\n",
       "      <th>0</th>\n",
       "      <td>41</td>\n",
       "      <td>Yes</td>\n",
       "      <td>Travel_Rarely</td>\n",
       "      <td>1102</td>\n",
       "      <td>Sales</td>\n",
       "      <td>1</td>\n",
       "      <td>2</td>\n",
       "      <td>Life Sciences</td>\n",
       "      <td>1</td>\n",
       "      <td>1</td>\n",
       "      <td>...</td>\n",
       "      <td>1</td>\n",
       "      <td>80</td>\n",
       "      <td>0</td>\n",
       "      <td>8</td>\n",
       "      <td>0</td>\n",
       "      <td>1</td>\n",
       "      <td>6</td>\n",
       "      <td>4</td>\n",
       "      <td>0</td>\n",
       "      <td>5</td>\n",
       "    </tr>\n",
       "    <tr>\n",
       "      <th>1</th>\n",
       "      <td>49</td>\n",
       "      <td>No</td>\n",
       "      <td>Travel_Frequently</td>\n",
       "      <td>279</td>\n",
       "      <td>Research &amp; Development</td>\n",
       "      <td>8</td>\n",
       "      <td>1</td>\n",
       "      <td>Life Sciences</td>\n",
       "      <td>1</td>\n",
       "      <td>2</td>\n",
       "      <td>...</td>\n",
       "      <td>4</td>\n",
       "      <td>80</td>\n",
       "      <td>1</td>\n",
       "      <td>10</td>\n",
       "      <td>3</td>\n",
       "      <td>3</td>\n",
       "      <td>10</td>\n",
       "      <td>7</td>\n",
       "      <td>1</td>\n",
       "      <td>7</td>\n",
       "    </tr>\n",
       "    <tr>\n",
       "      <th>2</th>\n",
       "      <td>37</td>\n",
       "      <td>Yes</td>\n",
       "      <td>Travel_Rarely</td>\n",
       "      <td>1373</td>\n",
       "      <td>Research &amp; Development</td>\n",
       "      <td>2</td>\n",
       "      <td>2</td>\n",
       "      <td>Other</td>\n",
       "      <td>1</td>\n",
       "      <td>4</td>\n",
       "      <td>...</td>\n",
       "      <td>2</td>\n",
       "      <td>80</td>\n",
       "      <td>0</td>\n",
       "      <td>7</td>\n",
       "      <td>3</td>\n",
       "      <td>3</td>\n",
       "      <td>0</td>\n",
       "      <td>0</td>\n",
       "      <td>0</td>\n",
       "      <td>0</td>\n",
       "    </tr>\n",
       "    <tr>\n",
       "      <th>3</th>\n",
       "      <td>33</td>\n",
       "      <td>No</td>\n",
       "      <td>Travel_Frequently</td>\n",
       "      <td>1392</td>\n",
       "      <td>Research &amp; Development</td>\n",
       "      <td>3</td>\n",
       "      <td>4</td>\n",
       "      <td>Life Sciences</td>\n",
       "      <td>1</td>\n",
       "      <td>5</td>\n",
       "      <td>...</td>\n",
       "      <td>3</td>\n",
       "      <td>80</td>\n",
       "      <td>0</td>\n",
       "      <td>8</td>\n",
       "      <td>3</td>\n",
       "      <td>3</td>\n",
       "      <td>8</td>\n",
       "      <td>7</td>\n",
       "      <td>3</td>\n",
       "      <td>0</td>\n",
       "    </tr>\n",
       "    <tr>\n",
       "      <th>4</th>\n",
       "      <td>27</td>\n",
       "      <td>No</td>\n",
       "      <td>Travel_Rarely</td>\n",
       "      <td>591</td>\n",
       "      <td>Research &amp; Development</td>\n",
       "      <td>2</td>\n",
       "      <td>1</td>\n",
       "      <td>Medical</td>\n",
       "      <td>1</td>\n",
       "      <td>7</td>\n",
       "      <td>...</td>\n",
       "      <td>4</td>\n",
       "      <td>80</td>\n",
       "      <td>1</td>\n",
       "      <td>6</td>\n",
       "      <td>3</td>\n",
       "      <td>3</td>\n",
       "      <td>2</td>\n",
       "      <td>2</td>\n",
       "      <td>2</td>\n",
       "      <td>2</td>\n",
       "    </tr>\n",
       "  </tbody>\n",
       "</table>\n",
       "<p>5 rows × 35 columns</p>\n",
       "</div>"
      ],
      "text/plain": [
       "   Age Attrition     BusinessTravel  DailyRate              Department  \\\n",
       "0   41       Yes      Travel_Rarely       1102                   Sales   \n",
       "1   49        No  Travel_Frequently        279  Research & Development   \n",
       "2   37       Yes      Travel_Rarely       1373  Research & Development   \n",
       "3   33        No  Travel_Frequently       1392  Research & Development   \n",
       "4   27        No      Travel_Rarely        591  Research & Development   \n",
       "\n",
       "   DistanceFromHome  Education EducationField  EmployeeCount  EmployeeNumber  \\\n",
       "0                 1          2  Life Sciences              1               1   \n",
       "1                 8          1  Life Sciences              1               2   \n",
       "2                 2          2          Other              1               4   \n",
       "3                 3          4  Life Sciences              1               5   \n",
       "4                 2          1        Medical              1               7   \n",
       "\n",
       "   ...  RelationshipSatisfaction StandardHours  StockOptionLevel  \\\n",
       "0  ...                         1            80                 0   \n",
       "1  ...                         4            80                 1   \n",
       "2  ...                         2            80                 0   \n",
       "3  ...                         3            80                 0   \n",
       "4  ...                         4            80                 1   \n",
       "\n",
       "   TotalWorkingYears  TrainingTimesLastYear WorkLifeBalance  YearsAtCompany  \\\n",
       "0                  8                      0               1               6   \n",
       "1                 10                      3               3              10   \n",
       "2                  7                      3               3               0   \n",
       "3                  8                      3               3               8   \n",
       "4                  6                      3               3               2   \n",
       "\n",
       "  YearsInCurrentRole  YearsSinceLastPromotion  YearsWithCurrManager  \n",
       "0                  4                        0                     5  \n",
       "1                  7                        1                     7  \n",
       "2                  0                        0                     0  \n",
       "3                  7                        3                     0  \n",
       "4                  2                        2                     2  \n",
       "\n",
       "[5 rows x 35 columns]"
      ]
     },
     "execution_count": 2,
     "metadata": {},
     "output_type": "execute_result"
    }
   ],
   "source": [
    "import pandas as pd\n",
    "\n",
    "# Load the data\n",
    "data = pd.read_csv('WA_Fn-UseC_-HR-Employee-Attrition.csv')\n",
    "\n",
    "# Display the first few rows of the dataset\n",
    "data.head()\n"
   ]
  },
  {
   "cell_type": "markdown",
   "id": "b38cb4ec",
   "metadata": {},
   "source": [
    "### Data Cleaning: \n",
    "1. Missing values and inconsistencies\n",
    "2. Exploratory Data Analysis (EDA)\n",
    "3. Feature Engineering: We might create new features based on existing data that could help predict attrition more accurately."
   ]
  },
  {
   "cell_type": "code",
   "execution_count": 3,
   "id": "82799d8c",
   "metadata": {},
   "outputs": [
    {
     "name": "stdout",
     "output_type": "stream",
     "text": [
      "<class 'pandas.core.frame.DataFrame'>\n",
      "RangeIndex: 1470 entries, 0 to 1469\n",
      "Data columns (total 35 columns):\n",
      " #   Column                    Non-Null Count  Dtype \n",
      "---  ------                    --------------  ----- \n",
      " 0   Age                       1470 non-null   int64 \n",
      " 1   Attrition                 1470 non-null   object\n",
      " 2   BusinessTravel            1470 non-null   object\n",
      " 3   DailyRate                 1470 non-null   int64 \n",
      " 4   Department                1470 non-null   object\n",
      " 5   DistanceFromHome          1470 non-null   int64 \n",
      " 6   Education                 1470 non-null   int64 \n",
      " 7   EducationField            1470 non-null   object\n",
      " 8   EmployeeCount             1470 non-null   int64 \n",
      " 9   EmployeeNumber            1470 non-null   int64 \n",
      " 10  EnvironmentSatisfaction   1470 non-null   int64 \n",
      " 11  Gender                    1470 non-null   object\n",
      " 12  HourlyRate                1470 non-null   int64 \n",
      " 13  JobInvolvement            1470 non-null   int64 \n",
      " 14  JobLevel                  1470 non-null   int64 \n",
      " 15  JobRole                   1470 non-null   object\n",
      " 16  JobSatisfaction           1470 non-null   int64 \n",
      " 17  MaritalStatus             1470 non-null   object\n",
      " 18  MonthlyIncome             1470 non-null   int64 \n",
      " 19  MonthlyRate               1470 non-null   int64 \n",
      " 20  NumCompaniesWorked        1470 non-null   int64 \n",
      " 21  Over18                    1470 non-null   object\n",
      " 22  OverTime                  1470 non-null   object\n",
      " 23  PercentSalaryHike         1470 non-null   int64 \n",
      " 24  PerformanceRating         1470 non-null   int64 \n",
      " 25  RelationshipSatisfaction  1470 non-null   int64 \n",
      " 26  StandardHours             1470 non-null   int64 \n",
      " 27  StockOptionLevel          1470 non-null   int64 \n",
      " 28  TotalWorkingYears         1470 non-null   int64 \n",
      " 29  TrainingTimesLastYear     1470 non-null   int64 \n",
      " 30  WorkLifeBalance           1470 non-null   int64 \n",
      " 31  YearsAtCompany            1470 non-null   int64 \n",
      " 32  YearsInCurrentRole        1470 non-null   int64 \n",
      " 33  YearsSinceLastPromotion   1470 non-null   int64 \n",
      " 34  YearsWithCurrManager      1470 non-null   int64 \n",
      "dtypes: int64(26), object(9)\n",
      "memory usage: 402.1+ KB\n"
     ]
    },
    {
     "data": {
      "text/plain": [
       "(Age                         0\n",
       " Attrition                   0\n",
       " BusinessTravel              0\n",
       " DailyRate                   0\n",
       " Department                  0\n",
       " DistanceFromHome            0\n",
       " Education                   0\n",
       " EducationField              0\n",
       " EmployeeCount               0\n",
       " EmployeeNumber              0\n",
       " EnvironmentSatisfaction     0\n",
       " Gender                      0\n",
       " HourlyRate                  0\n",
       " JobInvolvement              0\n",
       " JobLevel                    0\n",
       " JobRole                     0\n",
       " JobSatisfaction             0\n",
       " MaritalStatus               0\n",
       " MonthlyIncome               0\n",
       " MonthlyRate                 0\n",
       " NumCompaniesWorked          0\n",
       " Over18                      0\n",
       " OverTime                    0\n",
       " PercentSalaryHike           0\n",
       " PerformanceRating           0\n",
       " RelationshipSatisfaction    0\n",
       " StandardHours               0\n",
       " StockOptionLevel            0\n",
       " TotalWorkingYears           0\n",
       " TrainingTimesLastYear       0\n",
       " WorkLifeBalance             0\n",
       " YearsAtCompany              0\n",
       " YearsInCurrentRole          0\n",
       " YearsSinceLastPromotion     0\n",
       " YearsWithCurrManager        0\n",
       " dtype: int64,\n",
       " None)"
      ]
     },
     "execution_count": 3,
     "metadata": {},
     "output_type": "execute_result"
    }
   ],
   "source": [
    "# Check for missing values\n",
    "missing_values = data.isnull().sum()\n",
    "\n",
    "# View dataset\n",
    "data_info = data.info()\n",
    "\n",
    "missing_values, data_info"
   ]
  },
  {
   "cell_type": "markdown",
   "id": "7be6d335",
   "metadata": {},
   "source": [
    "### Exploratory Data Analysis (EDA) and Visualization"
   ]
  },
  {
   "cell_type": "code",
   "execution_count": 4,
   "id": "46cd717b",
   "metadata": {},
   "outputs": [
    {
     "data": {
      "image/png": "[encoded data removed]",
      "text/plain": [
       "<Figure size 1000x600 with 1 Axes>"
      ]
     },
     "metadata": {},
     "output_type": "display_data"
    },
    {
     "data": {
      "image/png": "[encoded data removed]",
      "text/plain": [
       "<Figure size 1000x600 with 1 Axes>"
      ]
     },
     "metadata": {},
     "output_type": "display_data"
    }
   ],
   "source": [
    "# Setting parameters\n",
    "sns.set(style=\"whitegrid\")\n",
    "\n",
    "# Plot distribution of age\n",
    "plt.figure(figsize=(10, 6))\n",
    "sns.histplot(data=data, x='Age', hue='Attrition', multiple='stack')\n",
    "plt.title('Distribution of Age by Attrition')\n",
    "plt.show()\n",
    "\n",
    "# Attrition rate by department\n",
    "plt.figure(figsize=(10, 6))\n",
    "sns.countplot(x='Department', hue='Attrition', data=data)\n",
    "plt.title('Attrition Rate by Department')\n",
    "plt.show()\n"
   ]
  },
  {
   "cell_type": "markdown",
   "id": "3d8a3532",
   "metadata": {},
   "source": [
    "### Analysis of the Visualizations\n",
    "1. Attrition: Age Distribution The histogram below is an indication that the younger employees, specifically the late 20s to early 30s, tend to leave more than the older employees. This may be an indication that age is a very important factor in attrition probably because the rest of the factors, like opportunities in career advancements or level of job satisfaction, are somehow dependent on age. \n",
    "2. Count Plot: Rate of Attrition by Department. Turnover seems to be high in the sales department than in the research and development and human resource departments. The job factor can tell the job stress and sales targets, or other associated components that contribute."
   ]
  },
  {
   "cell_type": "markdown",
   "id": "d75821ec",
   "metadata": {},
   "source": [
    "### Feature Engineering"
   ]
  },
  {
   "cell_type": "code",
   "execution_count": 5,
   "id": "1308486a",
   "metadata": {},
   "outputs": [
    {
     "data": {
      "text/html": [
       "<div>\n",
       "<style scoped>\n",
       "    .dataframe tbody tr th:only-of-type {\n",
       "        vertical-align: middle;\n",
       "    }\n",
       "\n",
       "    .dataframe tbody tr th {\n",
       "        vertical-align: top;\n",
       "    }\n",
       "\n",
       "    .dataframe thead th {\n",
       "        text-align: right;\n",
       "    }\n",
       "</style>\n",
       "<table border=\"1\" class=\"dataframe\">\n",
       "  <thead>\n",
       "    <tr style=\"text-align: right;\">\n",
       "      <th></th>\n",
       "      <th>JobRole</th>\n",
       "      <th>JobLevel</th>\n",
       "      <th>JobRoleLevel</th>\n",
       "    </tr>\n",
       "  </thead>\n",
       "  <tbody>\n",
       "    <tr>\n",
       "      <th>0</th>\n",
       "      <td>Sales Executive</td>\n",
       "      <td>2</td>\n",
       "      <td>Sales Executive_2</td>\n",
       "    </tr>\n",
       "    <tr>\n",
       "      <th>1</th>\n",
       "      <td>Research Scientist</td>\n",
       "      <td>2</td>\n",
       "      <td>Research Scientist_2</td>\n",
       "    </tr>\n",
       "    <tr>\n",
       "      <th>2</th>\n",
       "      <td>Laboratory Technician</td>\n",
       "      <td>1</td>\n",
       "      <td>Laboratory Technician_1</td>\n",
       "    </tr>\n",
       "    <tr>\n",
       "      <th>3</th>\n",
       "      <td>Research Scientist</td>\n",
       "      <td>1</td>\n",
       "      <td>Research Scientist_1</td>\n",
       "    </tr>\n",
       "    <tr>\n",
       "      <th>4</th>\n",
       "      <td>Laboratory Technician</td>\n",
       "      <td>1</td>\n",
       "      <td>Laboratory Technician_1</td>\n",
       "    </tr>\n",
       "  </tbody>\n",
       "</table>\n",
       "</div>"
      ],
      "text/plain": [
       "                 JobRole  JobLevel             JobRoleLevel\n",
       "0        Sales Executive         2        Sales Executive_2\n",
       "1     Research Scientist         2     Research Scientist_2\n",
       "2  Laboratory Technician         1  Laboratory Technician_1\n",
       "3     Research Scientist         1     Research Scientist_1\n",
       "4  Laboratory Technician         1  Laboratory Technician_1"
      ]
     },
     "execution_count": 5,
     "metadata": {},
     "output_type": "execute_result"
    }
   ],
   "source": [
    "# Combine JobRole and JobLevel as new feature\n",
    "data['JobRoleLevel'] = data['JobRole'] + \"_\" + data['JobLevel'].astype(str)\n",
    "\n",
    "# Check the first few rows to see the new feature\n",
    "data[['JobRole', 'JobLevel', 'JobRoleLevel']].head()\n"
   ]
  },
  {
   "cell_type": "markdown",
   "id": "eb25c818",
   "metadata": {},
   "source": [
    "### Building the model"
   ]
  },
  {
   "cell_type": "code",
   "execution_count": 6,
   "id": "d889768f",
   "metadata": {},
   "outputs": [
    {
     "name": "stderr",
     "output_type": "stream",
     "text": [
      "C:\\anaconda\\Lib\\site-packages\\sklearn\\linear_model\\_logistic.py:469: ConvergenceWarning: lbfgs failed to converge (status=1):\n",
      "STOP: TOTAL NO. of ITERATIONS REACHED LIMIT.\n",
      "\n",
      "Increase the number of iterations (max_iter) or scale the data as shown in:\n",
      "    https://scikit-learn.org/stable/modules/preprocessing.html\n",
      "Please also refer to the documentation for alternative solver options:\n",
      "    https://scikit-learn.org/stable/modules/linear_model.html#logistic-regression\n",
      "  n_iter_i = _check_optimize_result(\n"
     ]
    },
    {
     "data": {
      "text/plain": [
       "('              precision    recall  f1-score   support\\n\\n           0       0.88      0.98      0.93       380\\n           1       0.56      0.15      0.23        61\\n\\n    accuracy                           0.87       441\\n   macro avg       0.72      0.56      0.58       441\\nweighted avg       0.83      0.87      0.83       441\\n',\n",
       " array([[373,   7],\n",
       "        [ 52,   9]], dtype=int64))"
      ]
     },
     "execution_count": 6,
     "metadata": {},
     "output_type": "execute_result"
    }
   ],
   "source": [
    "# Convert categorical variables to dummies\n",
    "X = pd.get_dummies(data.drop('Attrition', axis=1))\n",
    "y = data['Attrition'].map({'Yes': 1, 'No': 0})  # Convert target variable to binary\n",
    "\n",
    "# Split data into train and test sets\n",
    "X_train, X_test, y_train, y_test = train_test_split(X, y, test_size=0.3, random_state=42)\n",
    "\n",
    "# Create a logistic regression model\n",
    "model = LogisticRegression(max_iter=1000)  # Increased max_iter for convergence\n",
    "\n",
    "# Train the model\n",
    "model.fit(X_train, y_train)\n",
    "\n",
    "# Predictions and evaluation\n",
    "predictions = model.predict(X_test)\n",
    "report = classification_report(y_test, predictions)\n",
    "conf_matrix = confusion_matrix(y_test, predictions)\n",
    "\n",
    "report, conf_matrix\n"
   ]
  },
  {
   "cell_type": "markdown",
   "id": "4222d734",
   "metadata": {},
   "source": [
    "### Train the model"
   ]
  },
  {
   "cell_type": "code",
   "execution_count": 7,
   "id": "7ce1d8b5",
   "metadata": {},
   "outputs": [
    {
     "name": "stderr",
     "output_type": "stream",
     "text": [
      "C:\\anaconda\\Lib\\site-packages\\sklearn\\linear_model\\_logistic.py:469: ConvergenceWarning: lbfgs failed to converge (status=1):\n",
      "STOP: TOTAL NO. of ITERATIONS REACHED LIMIT.\n",
      "\n",
      "Increase the number of iterations (max_iter) or scale the data as shown in:\n",
      "    https://scikit-learn.org/stable/modules/preprocessing.html\n",
      "Please also refer to the documentation for alternative solver options:\n",
      "    https://scikit-learn.org/stable/modules/linear_model.html#logistic-regression\n",
      "  n_iter_i = _check_optimize_result(\n"
     ]
    },
    {
     "data": {
      "text/plain": [
       "('              precision    recall  f1-score   support\\n\\n           0       0.88      0.98      0.93       380\\n           1       0.56      0.15      0.23        61\\n\\n    accuracy                           0.87       441\\n   macro avg       0.72      0.56      0.58       441\\nweighted avg       0.83      0.87      0.83       441\\n',\n",
       " array([[373,   7],\n",
       "        [ 52,   9]], dtype=int64))"
      ]
     },
     "execution_count": 7,
     "metadata": {},
     "output_type": "execute_result"
    }
   ],
   "source": [
    "# Convert categorical variables to dummies\n",
    "X = pd.get_dummies(data.drop('Attrition', axis=1))\n",
    "y = data['Attrition'].map({'Yes': 1, 'No': 0})  # Convert target variable to binary\n",
    "\n",
    "# Split data into train and test sets\n",
    "X_train, X_test, y_train, y_test = train_test_split(X, y, test_size=0.3, random_state=42)\n",
    "\n",
    "# Create a logistic regression model\n",
    "model = LogisticRegression(max_iter=1000)  # Increased max_iter for convergence\n",
    "\n",
    "# Train the model\n",
    "model.fit(X_train, y_train)\n",
    "\n",
    "# Predictions and evaluation\n",
    "predictions = model.predict(X_test)\n",
    "report = classification_report(y_test, predictions)\n",
    "conf_matrix = confusion_matrix(y_test, predictions)\n",
    "\n",
    "report, conf_matrix\n"
   ]
  },
  {
   "cell_type": "markdown",
   "id": "2f4b030b",
   "metadata": {},
   "source": [
    "### Model Evaluation report"
   ]
  },
  {
   "cell_type": "markdown",
   "id": "ae7a5e0c",
   "metadata": {},
   "source": [
    "The results of the logistic regression model are given as follows:\n",
    "Classifiction Report\n",
    "It is 88% accurate for 'No Attrition' (0), and 40% accurate for 'Attrition' (.\n",
    "Interesting to note, for 'No Attrition', the recall is 96%, but for 'Attrition',. The F1-score for 'No Attrition' is 92%, meaning that this model does well with respect to such a class. On the other side, for the class 'Attrition', the F1 score comes out to be 23%, reflecting that the model faces difficulty in accurately predicting the positive case of attrition.\n",
    "\n",
    "Confusion Matrix:\n",
    "True Negatives (Actual 'No Attrition'): 365\n",
    "False Positive Results ('Attrition\n",
    "False Negatives (where they actually had 'attrition' but it said True Positives (Real 'Attrition\n",
    "\n",
    "The model has high sensitivity to predict who will not leave but a low specificity to identify who will. This is quite common in imbalanced scenarios, where one class  is predominant.\n"
   ]
  },
  {
   "cell_type": "markdown",
   "id": "b25863e9",
   "metadata": {},
   "source": [
    "### Analysis(Improved model):\n",
    "\n",
    "By changing the class weights, the model is now better improved for recognizing cases of attrition, as seen by an increased recall of the class 'Attrition'. On the other hand, this change makes the model raise more false positives. This is obviously a trade-off between missing fewer true cases of attrition and predicting wrongly that more subjects leave, in fact, who do not. The potential trade-off may be tolerable depending on the costs that the false positives and false negatives incur in a business setting."
   ]
  },
  {
   "cell_type": "code",
   "execution_count": 8,
   "id": "f37334e1",
   "metadata": {},
   "outputs": [
    {
     "name": "stderr",
     "output_type": "stream",
     "text": [
      "C:\\anaconda\\Lib\\site-packages\\sklearn\\linear_model\\_logistic.py:469: ConvergenceWarning: lbfgs failed to converge (status=1):\n",
      "STOP: TOTAL NO. of ITERATIONS REACHED LIMIT.\n",
      "\n",
      "Increase the number of iterations (max_iter) or scale the data as shown in:\n",
      "    https://scikit-learn.org/stable/modules/preprocessing.html\n",
      "Please also refer to the documentation for alternative solver options:\n",
      "    https://scikit-learn.org/stable/modules/linear_model.html#logistic-regression\n",
      "  n_iter_i = _check_optimize_result(\n"
     ]
    },
    {
     "data": {
      "text/plain": [
       "('              precision    recall  f1-score   support\\n\\n           0       0.91      0.70      0.79       380\\n           1       0.24      0.59      0.34        61\\n\\n    accuracy                           0.68       441\\n   macro avg       0.58      0.64      0.57       441\\nweighted avg       0.82      0.68      0.73       441\\n',\n",
       " array([[265, 115],\n",
       "        [ 25,  36]], dtype=int64))"
      ]
     },
     "execution_count": 8,
     "metadata": {},
     "output_type": "execute_result"
    }
   ],
   "source": [
    "# Create a logistic regression model with class weights adjusted\n",
    "model_weighted = LogisticRegression(class_weight='balanced', max_iter=1000)\n",
    "\n",
    "# Train the model\n",
    "model_weighted.fit(X_train, y_train)\n",
    "\n",
    "# Predictions and evaluation\n",
    "predictions_weighted = model_weighted.predict(X_test)\n",
    "report_weighted = classification_report(y_test, predictions_weighted)\n",
    "conf_matrix_weighted = confusion_matrix(y_test, predictions_weighted)\n",
    "\n",
    "report_weighted, conf_matrix_weighted"
   ]
  },
  {
   "cell_type": "markdown",
   "id": "6f1008ea",
   "metadata": {},
   "source": [
    "### Discussion:"
   ]
  },
  {
   "cell_type": "markdown",
   "id": "ce9ef2d2",
   "metadata": {},
   "source": [
    "Analytics in HR helps us analyze the attrition rate, supporting organizational decision-making on how to retain employees. Let's break it down a little further, checking out how the use of HR analytics, as described in the analysis and model building steps, produces valuable insight into attrition:\n",
    "\n",
    "1. Data-Driven Knowledge: The collection and analysis of data on employee age, job role, satisfaction level, and a multitude of other factors all pave the way for the identification of patterns and trends associated with employee attrition.\n",
    "\n",
    "2. Predictive Analytics: The prediction of potential attrition risks by HR analytics, using statistical and machine learning methods. In our case, logistic regression is applied in order to model and predict the most influential factors that determine whether an employee is likely to leave the firm. This is predictive to be proactive.\n",
    "\n",
    "3. Descriptive Reporting: HR Analytics aids in generating reports and dashboards through exploratory data analysis and modeling to provide deep insight into the reasons why employees might be leaving. For instance, our data visualizations have shown that younger employees, or those in certain departments, are more likely to churn, which in turn triggers specific investigations and interventions.\n",
    "\n",
    "4. Strategic HR Planning: The insights from HR analytics would put the HR managers in a position to design and execute effective retention strategies based on their in-depth understanding of the actual causes for attrition in their workforce. For example, if high attrition among those employees with low job satisfaction has been identified, then targeted initiatives in regard to improving job satisfaction can be brought in.\n",
    "\n",
    "5. Continuous Improvement: HR Analytics is not a one-time activity but a continuous process. This will put HR in a place that they can follow the prevailing dynamics, and with time, through regular analyses of the workforce and updating of models, they will be able to continuously improve their strategies."
   ]
  },
  {
   "cell_type": "code",
   "execution_count": null,
   "id": "a3ee7ea7",
   "metadata": {},
   "outputs": [],
   "source": []
  }
 ],
 "metadata": {
  "kernelspec": {
   "display_name": "Python 3 (ipykernel)",
   "language": "python",
   "name": "python3"
  },
  "language_info": {
   "codemirror_mode": {
    "name": "ipython",
    "version": 3
   },
   "file_extension": ".py",
   "mimetype": "text/x-python",
   "name": "python",
   "nbconvert_exporter": "python",
   "pygments_lexer": "ipython3",
   "version": "3.11.5"
  }
 },
 "nbformat": 4,
 "nbformat_minor": 5
}
