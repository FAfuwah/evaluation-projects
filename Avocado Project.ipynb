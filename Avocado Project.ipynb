{
 "cells": [
  {
   "cell_type": "markdown",
   "id": "21375ff4",
   "metadata": {},
   "source": [
    "### Avocado Project by Francis Afuwah.\n",
    "Batch: DS2312"
   ]
  },
  {
   "cell_type": "markdown",
   "id": "c7f89e7a",
   "metadata": {},
   "source": [
    "### Imports"
   ]
  },
  {
   "cell_type": "code",
   "execution_count": 1,
   "id": "4e87d088",
   "metadata": {},
   "outputs": [],
   "source": [
    "import pandas as pd\n",
    "import numpy as np\n",
    "from sklearn.model_selection import train_test_split, cross_val_score\n",
    "from sklearn.preprocessing import LabelEncoder, StandardScaler\n",
    "from sklearn.metrics import mean_squared_error, accuracy_score\n",
    "from sklearn.ensemble import RandomForestRegressor, RandomForestClassifier\n",
    "from sklearn.linear_model import LinearRegression"
   ]
  },
  {
   "cell_type": "markdown",
   "id": "aa9b486b",
   "metadata": {},
   "source": [
    "### Load and Prepare the Dataset:"
   ]
  },
  {
   "cell_type": "code",
   "execution_count": 2,
   "id": "42230dfc",
   "metadata": {},
   "outputs": [],
   "source": [
    "# Load the data\n",
    "data_path = 'C:/Users/Admin/Desktop/Flip Robo-Intern/Datasets/avocado_full.csv'\n",
    "avocado_data = pd.read_csv(data_path)"
   ]
  },
  {
   "cell_type": "code",
   "execution_count": 3,
   "id": "ab32e2fc",
   "metadata": {},
   "outputs": [],
   "source": [
    "# Preprocessing\n",
    "avocado_data['Date'] = pd.to_datetime(avocado_data['Date'])\n",
    "avocado_data['Year'] = avocado_data['Date'].dt.year\n",
    "avocado_data['Month'] = avocado_data['Date'].dt.month\n",
    "avocado_data['DayOfWeek'] = avocado_data['Date'].dt.dayofweek"
   ]
  },
  {
   "cell_type": "markdown",
   "id": "37065e6c",
   "metadata": {},
   "source": [
    "### Encoding Categorical Data"
   ]
  },
  {
   "cell_type": "code",
   "execution_count": 4,
   "id": "5d2ceb43",
   "metadata": {},
   "outputs": [],
   "source": [
    "encoder = LabelEncoder()\n",
    "avocado_data['type_encoded'] = encoder.fit_transform(avocado_data['type'])\n",
    "avocado_data['region_encoded'] = encoder.fit_transform(avocado_data['region'])"
   ]
  },
  {
   "cell_type": "markdown",
   "id": "3cde728e",
   "metadata": {},
   "source": [
    "### Data Training and Testing"
   ]
  },
  {
   "cell_type": "code",
   "execution_count": 5,
   "id": "de2673fd",
   "metadata": {},
   "outputs": [],
   "source": [
    "# Splitting the dataset\n",
    "features = avocado_data[['Total Volume', '4046', '4225', '4770', 'Total Bags', 'Small Bags', 'Large Bags', 'XLarge Bags', 'type_encoded', 'Year', 'Month', 'DayOfWeek']]\n",
    "target_regression = avocado_data['AveragePrice']\n",
    "target_classification = avocado_data['region_encoded']\n"
   ]
  },
  {
   "cell_type": "markdown",
   "id": "05153d8b",
   "metadata": {},
   "source": [
    "### Data Training and Testing"
   ]
  },
  {
   "cell_type": "code",
   "execution_count": 6,
   "id": "e5c4972e",
   "metadata": {},
   "outputs": [],
   "source": [
    "X_train, X_test, y_train_reg, y_test_reg = train_test_split(features, target_regression, test_size=0.2, random_state=42)\n",
    "X_train, X_test, y_train_class, y_test_class = train_test_split(features, target_classification, test_size=0.2, random_state=42)\n"
   ]
  },
  {
   "cell_type": "markdown",
   "id": "aa99e763",
   "metadata": {},
   "source": [
    "### Regression model"
   ]
  },
  {
   "cell_type": "code",
   "execution_count": 7,
   "id": "6f9ed2a1",
   "metadata": {},
   "outputs": [],
   "source": [
    "reg_model = LinearRegression()\n",
    "reg_model.fit(X_train, y_train_reg)\n",
    "y_pred_reg = reg_model.predict(X_test)"
   ]
  },
  {
   "cell_type": "code",
   "execution_count": 8,
   "id": "ce3fdb26",
   "metadata": {},
   "outputs": [
    {
     "name": "stdout",
     "output_type": "stream",
     "text": [
      "Regression RMSE: 0.3021570108283471\n"
     ]
    }
   ],
   "source": [
    "print('Regression RMSE:', np.sqrt(mean_squared_error(y_test_reg, y_pred_reg)))"
   ]
  },
  {
   "cell_type": "markdown",
   "id": "645813e5",
   "metadata": {},
   "source": [
    "### Classification model"
   ]
  },
  {
   "cell_type": "code",
   "execution_count": 9,
   "id": "3430fa0a",
   "metadata": {},
   "outputs": [],
   "source": [
    "# Classification Model\n",
    "class_model = RandomForestClassifier(n_estimators=100, random_state=42)\n",
    "class_model.fit(X_train, y_train_class)\n",
    "y_pred_class = class_model.predict(X_test)"
   ]
  },
  {
   "cell_type": "code",
   "execution_count": 10,
   "id": "936106ed",
   "metadata": {},
   "outputs": [
    {
     "name": "stdout",
     "output_type": "stream",
     "text": [
      "Classification Accuracy: 0.8997260273972603\n"
     ]
    }
   ],
   "source": [
    "print('Classification Accuracy:', accuracy_score(y_test_class, y_pred_class))"
   ]
  },
  {
   "cell_type": "markdown",
   "id": "39d3a23b",
   "metadata": {},
   "source": [
    "### Calculate the average price of avocado"
   ]
  },
  {
   "cell_type": "code",
   "execution_count": 11,
   "id": "f638bb2e",
   "metadata": {},
   "outputs": [],
   "source": [
    "# Calculate the average price\n",
    "average_price = avocado_data['AveragePrice'].mean()"
   ]
  },
  {
   "cell_type": "code",
   "execution_count": 12,
   "id": "6730e5ba",
   "metadata": {},
   "outputs": [
    {
     "name": "stdout",
     "output_type": "stream",
     "text": [
      "The average price of avocados is: 1.405978409775878\n"
     ]
    }
   ],
   "source": [
    "# Print the average price\n",
    "print(\"The average price of avocados is:\", average_price)"
   ]
  },
  {
   "cell_type": "markdown",
   "id": "b74dbee4",
   "metadata": {},
   "source": [
    "### To find Regions in the dataset"
   ]
  },
  {
   "cell_type": "code",
   "execution_count": 13,
   "id": "92be154d",
   "metadata": {},
   "outputs": [],
   "source": [
    "# Find unique regions\n",
    "unique_regions = avocado_data['region'].unique()"
   ]
  },
  {
   "cell_type": "code",
   "execution_count": 14,
   "id": "502d76f5",
   "metadata": {},
   "outputs": [
    {
     "name": "stdout",
     "output_type": "stream",
     "text": [
      "Unique regions in the dataset:\n",
      "['Albany' 'Atlanta' 'BaltimoreWashington' 'Boise' 'Boston'\n",
      " 'BuffaloRochester' 'California' 'Charlotte' 'Chicago' 'CincinnatiDayton'\n",
      " 'Columbus' 'DallasFtWorth' 'Denver' 'Detroit' 'GrandRapids' 'GreatLakes'\n",
      " 'HarrisburgScranton' 'HartfordSpringfield' 'Houston' 'Indianapolis'\n",
      " 'Jacksonville' 'LasVegas' 'LosAngeles' 'Louisville' 'MiamiFtLauderdale'\n",
      " 'Midsouth' 'Nashville' 'NewOrleansMobile' 'NewYork' 'Northeast'\n",
      " 'NorthernNewEngland' 'Orlando' 'Philadelphia' 'PhoenixTucson'\n",
      " 'Pittsburgh' 'Plains' 'Portland' 'RaleighGreensboro' 'RichmondNorfolk'\n",
      " 'Roanoke' 'Sacramento' 'SanDiego' 'SanFrancisco' 'Seattle'\n",
      " 'SouthCarolina' 'SouthCentral' 'Southeast' 'Spokane' 'StLouis' 'Syracuse'\n",
      " 'Tampa' 'TotalUS' 'West' 'WestTexNewMexico']\n"
     ]
    }
   ],
   "source": [
    "# Print unique regions\n",
    "print(\"Unique regions in the dataset:\")\n",
    "print(unique_regions)"
   ]
  },
  {
   "cell_type": "markdown",
   "id": "60954ed4",
   "metadata": {},
   "source": [
    "### To calculate average price per Region"
   ]
  },
  {
   "cell_type": "code",
   "execution_count": 15,
   "id": "d245aa71",
   "metadata": {},
   "outputs": [
    {
     "name": "stdout",
     "output_type": "stream",
     "text": [
      "Average price per region:\n",
      "region\n",
      "Albany                 1.561036\n",
      "Atlanta                1.337959\n",
      "BaltimoreWashington    1.534231\n",
      "Boise                  1.348136\n",
      "Boston                 1.530888\n",
      "BuffaloRochester       1.516834\n",
      "California             1.395325\n",
      "Charlotte              1.606036\n",
      "Chicago                1.556775\n",
      "CincinnatiDayton       1.209201\n",
      "Columbus               1.252781\n",
      "DallasFtWorth          1.085592\n",
      "Denver                 1.218580\n",
      "Detroit                1.276095\n",
      "GrandRapids            1.505000\n",
      "GreatLakes             1.338550\n",
      "HarrisburgScranton     1.513284\n",
      "HartfordSpringfield    1.818639\n",
      "Houston                1.047929\n",
      "Indianapolis           1.313994\n",
      "Jacksonville           1.510947\n",
      "LasVegas               1.380917\n",
      "LosAngeles             1.216006\n",
      "Louisville             1.286686\n",
      "MiamiFtLauderdale      1.428491\n",
      "Midsouth               1.404763\n",
      "Nashville              1.212101\n",
      "NewOrleansMobile       1.304793\n",
      "NewYork                1.727574\n",
      "Northeast              1.601923\n",
      "NorthernNewEngland     1.477396\n",
      "Orlando                1.506213\n",
      "Philadelphia           1.632130\n",
      "PhoenixTucson          1.224438\n",
      "Pittsburgh             1.364320\n",
      "Plains                 1.436509\n",
      "Portland               1.317722\n",
      "RaleighGreensboro      1.555118\n",
      "RichmondNorfolk        1.291331\n",
      "Roanoke                1.247929\n",
      "Sacramento             1.621568\n",
      "SanDiego               1.398166\n",
      "SanFrancisco           1.804201\n",
      "Seattle                1.442574\n",
      "SouthCarolina          1.403284\n",
      "SouthCentral           1.101243\n",
      "Southeast              1.398018\n",
      "Spokane                1.445592\n",
      "StLouis                1.430621\n",
      "Syracuse               1.520325\n",
      "Tampa                  1.408846\n",
      "TotalUS                1.319024\n",
      "West                   1.272219\n",
      "WestTexNewMexico       1.261701\n",
      "Name: AveragePrice, dtype: float64\n"
     ]
    }
   ],
   "source": [
    "# Calculate the average price per region\n",
    "average_price_per_region = avocado_data.groupby('region')['AveragePrice'].mean()\n",
    "\n",
    "# Print the average price per region\n",
    "print(\"Average price per region:\")\n",
    "print(average_price_per_region)"
   ]
  },
  {
   "cell_type": "markdown",
   "id": "48fe9daf",
   "metadata": {},
   "source": [
    "### Total volume per Region"
   ]
  },
  {
   "cell_type": "code",
   "execution_count": 16,
   "id": "59d8af10",
   "metadata": {},
   "outputs": [
    {
     "name": "stdout",
     "output_type": "stream",
     "text": [
      "Total volume per region:\n",
      "region\n",
      "Albany                 1.606780e+07\n",
      "Atlanta                8.860512e+07\n",
      "BaltimoreWashington    1.347139e+08\n",
      "Boise                  1.441319e+07\n",
      "Boston                 9.727398e+07\n",
      "BuffaloRochester       2.296247e+07\n",
      "California             1.028982e+09\n",
      "Charlotte              3.555554e+07\n",
      "Chicago                1.337023e+08\n",
      "CincinnatiDayton       4.452201e+07\n",
      "Columbus               2.999336e+07\n",
      "DallasFtWorth          2.084193e+08\n",
      "Denver                 1.389025e+08\n",
      "Detroit                6.342242e+07\n",
      "GrandRapids            3.021174e+07\n",
      "GreatLakes             5.896425e+08\n",
      "HarrisburgScranton     4.180886e+07\n",
      "HartfordSpringfield    5.067054e+07\n",
      "Houston                2.031679e+08\n",
      "Indianapolis           3.026339e+07\n",
      "Jacksonville           2.879000e+07\n",
      "LasVegas               5.437691e+07\n",
      "LosAngeles             5.078965e+08\n",
      "Louisville             1.609700e+07\n",
      "MiamiFtLauderdale      9.767322e+07\n",
      "Midsouth               5.083494e+08\n",
      "Nashville              3.561209e+07\n",
      "NewOrleansMobile       4.569514e+07\n",
      "NewYork                2.407341e+08\n",
      "Northeast              7.132809e+08\n",
      "NorthernNewEngland     7.153289e+07\n",
      "Orlando                5.866070e+07\n",
      "Philadelphia           7.183880e+07\n",
      "PhoenixTucson          1.956433e+08\n",
      "Pittsburgh             1.880635e+07\n",
      "Plains                 3.111885e+08\n",
      "Portland               1.105522e+08\n",
      "RaleighGreensboro      4.820273e+07\n",
      "RichmondNorfolk        4.223085e+07\n",
      "Roanoke                2.504201e+07\n",
      "Sacramento             7.516375e+07\n",
      "SanDiego               8.979192e+07\n",
      "SanFrancisco           1.358302e+08\n",
      "Seattle                1.092142e+08\n",
      "SouthCarolina          6.075377e+07\n",
      "SouthCentral           1.011280e+09\n",
      "Southeast              6.152384e+08\n",
      "Spokane                1.556528e+07\n",
      "StLouis                3.207283e+07\n",
      "Syracuse               1.094267e+07\n",
      "Tampa                  6.600454e+07\n",
      "TotalUS                5.864740e+09\n",
      "West                   1.086779e+09\n",
      "WestTexNewMexico       1.445218e+08\n",
      "Name: Total Volume, dtype: float64\n"
     ]
    }
   ],
   "source": [
    "# Calculate the total volume of avocados sold per region\n",
    "total_volume_per_region = avocado_data.groupby('region')['Total Volume'].sum()\n",
    "\n",
    "# Print the total volume per region\n",
    "print(\"Total volume per region:\")\n",
    "print(total_volume_per_region)"
   ]
  },
  {
   "cell_type": "code",
   "execution_count": null,
   "id": "d2039b6b",
   "metadata": {},
   "outputs": [],
   "source": []
  }
 ],
 "metadata": {
  "kernelspec": {
   "display_name": "Python 3 (ipykernel)",
   "language": "python",
   "name": "python3"
  },
  "language_info": {
   "codemirror_mode": {
    "name": "ipython",
    "version": 3
   },
   "file_extension": ".py",
   "mimetype": "text/x-python",
   "name": "python",
   "nbconvert_exporter": "python",
   "pygments_lexer": "ipython3",
   "version": "3.11.5"
  }
 },
 "nbformat": 4,
 "nbformat_minor": 5
}
